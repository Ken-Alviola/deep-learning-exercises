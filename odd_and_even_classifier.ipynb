{
 "cells": [
  {
   "cell_type": "markdown",
   "metadata": {},
   "source": [
    "# Keras Network to Classify Odd/Even Numbers"
   ]
  },
  {
   "cell_type": "code",
   "execution_count": 1,
   "metadata": {
    "ExecuteTime": {
     "end_time": "2021-05-18T15:51:40.997907Z",
     "start_time": "2021-05-18T15:51:23.522392Z"
    }
   },
   "outputs": [],
   "source": [
    "import warnings\n",
    "warnings.filterwarnings('ignore')\n",
    "\n",
    "# imports\n",
    "import numpy as np\n",
    "from keras.models import Sequential\n",
    "from keras.layers import Dense\n",
    "from keras.utils import np_utils\n",
    "from keras.models import Model\n",
    "\n",
    "np.random.seed(23)"
   ]
  },
  {
   "cell_type": "markdown",
   "metadata": {},
   "source": [
    "## Big Picture\n",
    "- Supervised learning, so we have labeled data\n",
    "- Neural networks, like other supervised algorithms, try to approximate any arbitrary function, given enough data\n",
    "\n",
    "<img src=\"machine_learning_vs_classical_programming.jpeg\">"
   ]
  },
  {
   "cell_type": "markdown",
   "metadata": {},
   "source": [
    "## Goal\n",
    "- Train a neural network classifier to classify if an integer is odd or even."
   ]
  },
  {
   "cell_type": "markdown",
   "metadata": {},
   "source": [
    "## Workflow\n",
    "1. Setup training data\n",
    "2. Create binary encoding for the input layer\n",
    "3. Create binary decoding for the ouput layer\n",
    "4. Create the model, add layers, and train/fit\n",
    "5. Create predictions on new data\n",
    "6. Evaluate the performance of the classifier on train data\n",
    "7. Evaluate the performance of the classifier on test data"
   ]
  },
  {
   "cell_type": "code",
   "execution_count": 2,
   "metadata": {
    "ExecuteTime": {
     "end_time": "2021-05-18T16:19:24.413042Z",
     "start_time": "2021-05-18T16:19:24.396151Z"
    }
   },
   "outputs": [],
   "source": [
    "# Specify the number of binary digits. \n",
    "NUM_DIGITS = 10"
   ]
  },
  {
   "cell_type": "code",
   "execution_count": 3,
   "metadata": {
    "ExecuteTime": {
     "end_time": "2021-05-18T16:19:25.342339Z",
     "start_time": "2021-05-18T16:19:25.328629Z"
    }
   },
   "outputs": [],
   "source": [
    "## Setup the training data for 101-1023. 1023 is the highest number countable with 10 binary digits\n",
    "raw_training_data = np.array(range(101, 2**NUM_DIGITS))"
   ]
  },
  {
   "cell_type": "code",
   "execution_count": 4,
   "metadata": {
    "ExecuteTime": {
     "end_time": "2021-05-18T16:19:25.855368Z",
     "start_time": "2021-05-18T16:19:25.822121Z"
    }
   },
   "outputs": [
    {
     "data": {
      "text/plain": [
       "array([101, 102, 103, 104, 105, 106, 107, 108, 109, 110])"
      ]
     },
     "execution_count": 4,
     "metadata": {},
     "output_type": "execute_result"
    }
   ],
   "source": [
    "raw_training_data[:10]"
   ]
  },
  {
   "cell_type": "code",
   "execution_count": 5,
   "metadata": {
    "ExecuteTime": {
     "end_time": "2021-05-18T16:19:27.230201Z",
     "start_time": "2021-05-18T16:19:27.222509Z"
    }
   },
   "outputs": [],
   "source": [
    "## Binary Encoding function\n",
    "# In order to binary encode the input values\n",
    "def binary_encode(i, NUM_DIGITS):\n",
    "    return np.array([i >> d & 1 for d in range(NUM_DIGITS)])"
   ]
  },
  {
   "cell_type": "code",
   "execution_count": 7,
   "metadata": {
    "ExecuteTime": {
     "end_time": "2021-05-18T16:20:03.413757Z",
     "start_time": "2021-05-18T16:20:03.403763Z"
    }
   },
   "outputs": [
    {
     "name": "stdout",
     "output_type": "stream",
     "text": [
      "number \t [binary digits]\n",
      "1 \t [1 0 0 0 0 0 0 0 0 0]\n",
      "2 \t [0 1 0 0 0 0 0 0 0 0]\n",
      "3 \t [1 1 0 0 0 0 0 0 0 0]\n",
      "4 \t [0 0 1 0 0 0 0 0 0 0]\n",
      "5 \t [1 0 1 0 0 0 0 0 0 0]\n"
     ]
    }
   ],
   "source": [
    "print(\"number \\t [binary digits]\")\n",
    "print(1, \"\\t\", binary_encode(1, NUM_DIGITS))\n",
    "print(2, \"\\t\", binary_encode(2, NUM_DIGITS))\n",
    "print(3, \"\\t\", binary_encode(3, NUM_DIGITS))\n",
    "print(4, \"\\t\", binary_encode(4, NUM_DIGITS))\n",
    "print(5, \"\\t\", binary_encode(5, NUM_DIGITS))"
   ]
  },
  {
   "cell_type": "code",
   "execution_count": 8,
   "metadata": {
    "ExecuteTime": {
     "end_time": "2021-05-18T16:22:45.114744Z",
     "start_time": "2021-05-18T16:22:45.104615Z"
    }
   },
   "outputs": [
    {
     "name": "stdout",
     "output_type": "stream",
     "text": [
      "0 \t [0 0 0 0 0 0 0 0 0 0]\n",
      "1023 \t [1 1 1 1 1 1 1 1 1 1]\n"
     ]
    }
   ],
   "source": [
    "print(0, \"\\t\", binary_encode(0, NUM_DIGITS))\n",
    "print(1023, \"\\t\", binary_encode(1023, NUM_DIGITS))"
   ]
  },
  {
   "cell_type": "code",
   "execution_count": 9,
   "metadata": {
    "ExecuteTime": {
     "end_time": "2021-05-18T16:22:46.406177Z",
     "start_time": "2021-05-18T16:22:46.397847Z"
    }
   },
   "outputs": [
    {
     "data": {
      "text/plain": [
       "1023"
      ]
     },
     "execution_count": 9,
     "metadata": {},
     "output_type": "execute_result"
    }
   ],
   "source": [
    "512 + 256 + 128 + 64 + 32 + 16 + 8 + 4 + 2 + 1"
   ]
  },
  {
   "cell_type": "code",
   "execution_count": 10,
   "metadata": {
    "ExecuteTime": {
     "end_time": "2021-05-18T16:22:48.334949Z",
     "start_time": "2021-05-18T16:22:48.297180Z"
    }
   },
   "outputs": [],
   "source": [
    "# encode the training data\n",
    "encoded_training_data = [binary_encode(i, NUM_DIGITS) for i in raw_training_data]"
   ]
  },
  {
   "cell_type": "code",
   "execution_count": 11,
   "metadata": {
    "ExecuteTime": {
     "end_time": "2021-05-18T16:22:49.514526Z",
     "start_time": "2021-05-18T16:22:49.504006Z"
    }
   },
   "outputs": [],
   "source": [
    "x_train = np.array(encoded_training_data)"
   ]
  },
  {
   "cell_type": "code",
   "execution_count": 12,
   "metadata": {
    "ExecuteTime": {
     "end_time": "2021-05-18T16:22:51.137157Z",
     "start_time": "2021-05-18T16:22:51.125226Z"
    }
   },
   "outputs": [
    {
     "data": {
      "text/plain": [
       "array([[1, 0, 1, ..., 0, 0, 0],\n",
       "       [0, 1, 1, ..., 0, 0, 0],\n",
       "       [1, 1, 1, ..., 0, 0, 0],\n",
       "       ...,\n",
       "       [1, 0, 1, ..., 1, 1, 1],\n",
       "       [0, 1, 1, ..., 1, 1, 1],\n",
       "       [1, 1, 1, ..., 1, 1, 1]])"
      ]
     },
     "execution_count": 12,
     "metadata": {},
     "output_type": "execute_result"
    }
   ],
   "source": [
    "x_train"
   ]
  },
  {
   "cell_type": "code",
   "execution_count": 13,
   "metadata": {
    "ExecuteTime": {
     "end_time": "2021-05-18T16:23:21.202457Z",
     "start_time": "2021-05-18T16:23:21.192559Z"
    }
   },
   "outputs": [
    {
     "name": "stdout",
     "output_type": "stream",
     "text": [
      "[1 0 1 0 0 1 1 0 0 0]\n",
      "101\n"
     ]
    }
   ],
   "source": [
    "print(x_train[0])\n",
    "print(raw_training_data[0])"
   ]
  },
  {
   "cell_type": "code",
   "execution_count": 14,
   "metadata": {
    "ExecuteTime": {
     "end_time": "2021-05-18T16:23:28.217503Z",
     "start_time": "2021-05-18T16:23:28.207921Z"
    }
   },
   "outputs": [],
   "source": [
    "# Encode \"even\" and \"odd\" to zero or 1\n",
    "# If we had more than 2 options, we'd one hot encode to make an array\n",
    "# One hot encoding the number\n",
    "# Creating the labels, the y values\n",
    "def encode_even_odd(i):\n",
    "    if i % 2 == 0:\n",
    "        return [0]\n",
    "    else:\n",
    "        return [1]\n",
    "\n",
    "assert encode_even_odd(2) == [0]\n",
    "assert encode_even_odd(3) == [1]"
   ]
  },
  {
   "cell_type": "code",
   "execution_count": 15,
   "metadata": {
    "ExecuteTime": {
     "end_time": "2021-05-18T16:23:31.361872Z",
     "start_time": "2021-05-18T16:23:31.347016Z"
    }
   },
   "outputs": [],
   "source": [
    "# y_train is the encoded output. \n",
    "# This is our \"labeled data\" for supervised learning\n",
    "y_train = np.array([encode_even_odd(i) for i in range(101, 2 ** NUM_DIGITS)])"
   ]
  },
  {
   "cell_type": "code",
   "execution_count": 16,
   "metadata": {
    "ExecuteTime": {
     "end_time": "2021-05-18T16:23:33.090106Z",
     "start_time": "2021-05-18T16:23:33.067428Z"
    }
   },
   "outputs": [
    {
     "name": "stdout",
     "output_type": "stream",
     "text": [
      "Number representeed as a decimal 101\n",
      "Number represented as binary in a list: [1 0 1 0 0 1 1 0 0 0]\n",
      "0 for even, 1 for odd: [1]\n"
     ]
    }
   ],
   "source": [
    "print(\"Number representeed as a decimal\", raw_training_data[0])\n",
    "print(\"Number represented as binary in a list:\", x_train[0])\n",
    "print(\"0 for even, 1 for odd:\", y_train[0])"
   ]
  },
  {
   "cell_type": "code",
   "execution_count": 17,
   "metadata": {
    "ExecuteTime": {
     "end_time": "2021-05-18T16:23:34.595628Z",
     "start_time": "2021-05-18T16:23:34.583549Z"
    }
   },
   "outputs": [
    {
     "name": "stdout",
     "output_type": "stream",
     "text": [
      "Number representeed as a decimal 102\n",
      "Number represented as binary in a list: [0 1 1 0 0 1 1 0 0 0]\n",
      "0 for even, 1 for odd: [0]\n"
     ]
    }
   ],
   "source": [
    "print(\"Number representeed as a decimal\", raw_training_data[1])\n",
    "print(\"Number represented as binary in a list:\", x_train[1])\n",
    "print(\"0 for even, 1 for odd:\", y_train[1])"
   ]
  },
  {
   "cell_type": "markdown",
   "metadata": {},
   "source": [
    "## Compare raw inputs to the labels\n",
    "- The first five values in the input tensor are 101, 102, 103, 104, and 105\n",
    "- The encoded labels specify \"odd\", \"even\", \"odd\", \"even\", and then \"odd\"\n",
    "- Remember that training a classifier is supervised learning with labeled data"
   ]
  },
  {
   "cell_type": "code",
   "execution_count": 18,
   "metadata": {
    "ExecuteTime": {
     "end_time": "2021-05-18T16:26:17.427338Z",
     "start_time": "2021-05-18T16:26:17.418703Z"
    }
   },
   "outputs": [
    {
     "name": "stdout",
     "output_type": "stream",
     "text": [
      "Raw training data [101 102 103 104 105]\n",
      "[1 0 1 0 1]\n"
     ]
    }
   ],
   "source": [
    "print(\"Raw training data\", raw_training_data[:5])\n",
    "print(y_train[:5].flatten())"
   ]
  },
  {
   "cell_type": "code",
   "execution_count": 19,
   "metadata": {
    "ExecuteTime": {
     "end_time": "2021-05-18T16:26:20.195550Z",
     "start_time": "2021-05-18T16:26:20.188711Z"
    }
   },
   "outputs": [],
   "source": [
    "# Convert from binary back to the ouput string\n",
    "# Decodes the output layer to English\n",
    "def decode_even_odd(n):\n",
    "    if n == 0:\n",
    "        return \"even\"\n",
    "    else:\n",
    "        return \"odd\"\n",
    "\n",
    "assert decode_even_odd(0) == 'even'\n",
    "assert decode_even_odd(1) == 'odd'"
   ]
  },
  {
   "cell_type": "code",
   "execution_count": 20,
   "metadata": {
    "ExecuteTime": {
     "end_time": "2021-05-18T16:27:02.344526Z",
     "start_time": "2021-05-18T16:27:02.338859Z"
    }
   },
   "outputs": [],
   "source": [
    "# Another way I've seen this decoding written (especially with one hot encoded options)\n",
    "# Convert from binary back to the ouput string\n",
    "def decode_even_odd2(n):\n",
    "    return [\"even\", \"odd\"][n]\n",
    "\n",
    "assert decode_even_odd2(0) == 'even'\n",
    "assert decode_even_odd2(1) == 'odd'"
   ]
  },
  {
   "cell_type": "code",
   "execution_count": 21,
   "metadata": {
    "ExecuteTime": {
     "end_time": "2021-05-18T16:28:10.949407Z",
     "start_time": "2021-05-18T16:28:10.732352Z"
    }
   },
   "outputs": [],
   "source": [
    "# Now let's build our model, add layers, compile, and fit it!\n",
    "# Sequential is a good model for sequence data like 1, 2, 3 dimensional arrays\n",
    "model = Sequential()\n",
    "\n",
    "## Add the model's layers.\n",
    "# These are defaults and they work pretty well\n",
    "model.add(Dense(1000, input_dim=NUM_DIGITS, activation=\"relu\")) # relu max(0, x)\n",
    "model.add(Dense(1000, activation=\"relu\"))\n",
    "\n",
    "# Almost all the time, the last layer's first argument is the number of outcomes\n",
    "model.add(Dense(2, activation=\"softmax\"))\n",
    "\n",
    "# categorical_crossentropy for multiclass\n",
    "# should be using a binary classifier \n",
    "model.compile(loss='sparse_categorical_crossentropy', optimizer='adagrad', metrics=[\"accuracy\"])"
   ]
  },
  {
   "cell_type": "code",
   "execution_count": null,
   "metadata": {},
   "outputs": [],
   "source": [
    "# Fit the model on the training data\n",
    "# nb_epoch is number of training loops is number of epochs\n",
    "model.fit(x_train, y_train, epochs=3, batch_size=128)"
   ]
  },
  {
   "cell_type": "code",
   "execution_count": null,
   "metadata": {},
   "outputs": [],
   "source": [
    "# Setup x_test for numbers from 1 to 100 (the model hasn't seen these at all)\n",
    "numbers = np.arange(1, 101)\n",
    "x_test = np.transpose(binary_encode(numbers, NUM_DIGITS))"
   ]
  },
  {
   "cell_type": "code",
   "execution_count": null,
   "metadata": {},
   "outputs": [],
   "source": [
    "# model.predict_classes(x_test) or model.predict_classes(out_of_sample_data)\n",
    "y_test = model.predict_classes(x_test)"
   ]
  },
  {
   "cell_type": "code",
   "execution_count": null,
   "metadata": {},
   "outputs": [],
   "source": [
    "# Setup predicted output\n",
    "predictions = np.vectorize(decode_even_odd)(y_test)\n",
    "print (predictions)"
   ]
  },
  {
   "cell_type": "code",
   "execution_count": null,
   "metadata": {},
   "outputs": [],
   "source": [
    "actual = np.array([])\n",
    "for i in numbers:\n",
    "    if i % 2 == 0:\n",
    "        actual = np.append(actual, \"even\")\n",
    "    else:\n",
    "        actual = np.append(actual, \"odd\")\n",
    "\n",
    "actual"
   ]
  },
  {
   "cell_type": "code",
   "execution_count": null,
   "metadata": {},
   "outputs": [],
   "source": [
    "# Let's evaluate the model's predictions\n",
    "evaluate = np.array(actual == predictions)\n",
    "print (np.count_nonzero(evaluate == True) / 100)"
   ]
  },
  {
   "cell_type": "markdown",
   "metadata": {},
   "source": [
    "### Ok, 100% accuracy... but what if we send the model random numbers?"
   ]
  },
  {
   "cell_type": "code",
   "execution_count": null,
   "metadata": {},
   "outputs": [],
   "source": [
    "random_numbers = np.random.randint(1023, size=10000)\n",
    "random_numbers[:10]"
   ]
  },
  {
   "cell_type": "code",
   "execution_count": null,
   "metadata": {},
   "outputs": [],
   "source": [
    "x_test = np.transpose(binary_encode(random_numbers, NUM_DIGITS))\n",
    "y_test = model.predict_classes(x_test)"
   ]
  },
  {
   "cell_type": "code",
   "execution_count": null,
   "metadata": {},
   "outputs": [],
   "source": [
    "predictions = np.vectorize(decode_even_odd)(y_test)"
   ]
  },
  {
   "cell_type": "code",
   "execution_count": null,
   "metadata": {},
   "outputs": [],
   "source": [
    "predictions.shape"
   ]
  },
  {
   "cell_type": "code",
   "execution_count": null,
   "metadata": {},
   "outputs": [],
   "source": [
    "actual = np.array([])\n",
    "for i in random_numbers:\n",
    "    if i % 2 == 0:\n",
    "        actual = np.append(actual, \"even\")\n",
    "    else:\n",
    "        actual = np.append(actual, \"odd\")\n",
    "\n",
    "actual"
   ]
  },
  {
   "cell_type": "code",
   "execution_count": null,
   "metadata": {},
   "outputs": [],
   "source": [
    "actual.shape"
   ]
  },
  {
   "cell_type": "code",
   "execution_count": null,
   "metadata": {},
   "outputs": [],
   "source": [
    "# Let's evaluate the model's predictions\n",
    "evaluate = np.array(actual == predictions)\n",
    "print (np.count_nonzero(evaluate == True) / 100)"
   ]
  },
  {
   "cell_type": "code",
   "execution_count": null,
   "metadata": {},
   "outputs": [],
   "source": []
  },
  {
   "cell_type": "code",
   "execution_count": null,
   "metadata": {},
   "outputs": [],
   "source": [
    "# make predictions on 1-100 \n",
    "# make predictions on 1024-2048\n",
    "# make predictions on 2048-4096"
   ]
  },
  {
   "cell_type": "code",
   "execution_count": null,
   "metadata": {},
   "outputs": [],
   "source": []
  }
 ],
 "metadata": {
  "kernelspec": {
   "display_name": "Python 3",
   "language": "python",
   "name": "python3"
  },
  "language_info": {
   "codemirror_mode": {
    "name": "ipython",
    "version": 3
   },
   "file_extension": ".py",
   "mimetype": "text/x-python",
   "name": "python",
   "nbconvert_exporter": "python",
   "pygments_lexer": "ipython3",
   "version": "3.8.5"
  }
 },
 "nbformat": 4,
 "nbformat_minor": 4
}
