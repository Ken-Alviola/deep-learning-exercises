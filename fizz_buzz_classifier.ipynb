{
  "nbformat": 4,
  "nbformat_minor": 0,
  "metadata": {
    "kernelspec": {
      "display_name": "Python 3",
      "language": "python",
      "name": "python3"
    },
    "language_info": {
      "codemirror_mode": {
        "name": "ipython",
        "version": 3
      },
      "file_extension": ".py",
      "mimetype": "text/x-python",
      "name": "python",
      "nbconvert_exporter": "python",
      "pygments_lexer": "ipython3",
      "version": "3.8.5"
    },
    "colab": {
      "name": "fizz_buzz_classifier.ipynb",
      "provenance": []
    }
  },
  "cells": [
    {
      "cell_type": "markdown",
      "metadata": {
        "id": "NtCLCAY_dWIO"
      },
      "source": [
        "# Solving FizzBuzz with Keras"
      ]
    },
    {
      "cell_type": "markdown",
      "metadata": {
        "id": "QJ0-QfhUdWIb"
      },
      "source": [
        "## Overview\n",
        "- This notebook provides an example Keras network to solve FizzBuzz.\n",
        "- This is a supervised classification problem, so we'll train our model on labeled data.\n"
      ]
    },
    {
      "cell_type": "markdown",
      "metadata": {
        "id": "mNreiBhDdWId"
      },
      "source": [
        "## What is FizzBuzz?\n",
        "FizzBuzz is a common programming interview problem. Here's the setup.\n",
        "- Write a program that outputs all the integers from 1 to 100.\n",
        "- If the number is a multpile of 3, then output the string \"Fizz\"\n",
        "- If the number is a multiple of 5, then output the string \"Buzz\"\n",
        "- If the number is a multiple of 15, output the string \"FizzBuzz\"\n",
        "- For any other number, output that, number itself."
      ]
    },
    {
      "cell_type": "code",
      "metadata": {
        "id": "7ZiKf47ndWId"
      },
      "source": [
        "import warnings\n",
        "warnings.filterwarnings('ignore')\n",
        "\n",
        "# imports\n",
        "import numpy as np\n",
        "from keras.models import Sequential\n",
        "from keras.layers import Dense\n",
        "from keras.utils import np_utils\n",
        "from keras.models import Model"
      ],
      "execution_count": 1,
      "outputs": []
    },
    {
      "cell_type": "code",
      "metadata": {
        "id": "4LsNJIQPdWIg"
      },
      "source": [
        "# Specify the number of binary digits. \n",
        "NUM_DIGITS = 10"
      ],
      "execution_count": 2,
      "outputs": []
    },
    {
      "cell_type": "code",
      "metadata": {
        "id": "Y7vtk9O4dWIh"
      },
      "source": [
        "## Setup the training data for 101-1024. 1024 is the highest number countable with 10 binary digits\n",
        "raw_training_data = np.array(range(101, 2**NUM_DIGITS))"
      ],
      "execution_count": 3,
      "outputs": []
    },
    {
      "cell_type": "code",
      "metadata": {
        "id": "-PDP-2wFdWIh",
        "outputId": "ff744b8d-a1f2-428e-9db6-c5337f8ff1cd",
        "colab": {
          "base_uri": "https://localhost:8080/"
        }
      },
      "source": [
        "## This is a numpy array of integers.\n",
        "raw_training_data[0:20]"
      ],
      "execution_count": 4,
      "outputs": [
        {
          "output_type": "execute_result",
          "data": {
            "text/plain": [
              "array([101, 102, 103, 104, 105, 106, 107, 108, 109, 110, 111, 112, 113,\n",
              "       114, 115, 116, 117, 118, 119, 120])"
            ]
          },
          "metadata": {
            "tags": []
          },
          "execution_count": 4
        }
      ]
    },
    {
      "cell_type": "code",
      "metadata": {
        "id": "6BTZibdEdWIi"
      },
      "source": [
        "# We need to binary encode our inputs\n",
        "def binary_encode(i, NUM_DIGITS):\n",
        "    return np.array([i >> d & 1 for d in range(NUM_DIGITS)])"
      ],
      "execution_count": 5,
      "outputs": []
    },
    {
      "cell_type": "code",
      "metadata": {
        "id": "w8CjmyGLdWIj",
        "outputId": "bedbbec0-4312-4ea2-b262-3c141f9aa6a7",
        "colab": {
          "base_uri": "https://localhost:8080/"
        }
      },
      "source": [
        "print(1, binary_encode(1, NUM_DIGITS))\n",
        "print(2, binary_encode(2, NUM_DIGITS))\n",
        "print(3, binary_encode(3, NUM_DIGITS))\n",
        "print(4, binary_encode(4, NUM_DIGITS))\n"
      ],
      "execution_count": 6,
      "outputs": [
        {
          "output_type": "stream",
          "text": [
            "1 [1 0 0 0 0 0 0 0 0 0]\n",
            "2 [0 1 0 0 0 0 0 0 0 0]\n",
            "3 [1 1 0 0 0 0 0 0 0 0]\n",
            "4 [0 0 1 0 0 0 0 0 0 0]\n"
          ],
          "name": "stdout"
        }
      ]
    },
    {
      "cell_type": "code",
      "metadata": {
        "id": "qfWAPXGYdWIk",
        "outputId": "ba1eb2a3-9fb3-43c0-87f0-bb3263cf0fb9",
        "colab": {
          "base_uri": "https://localhost:8080/"
        }
      },
      "source": [
        "binary_encode(3, NUM_DIGITS)"
      ],
      "execution_count": 7,
      "outputs": [
        {
          "output_type": "execute_result",
          "data": {
            "text/plain": [
              "array([1, 1, 0, 0, 0, 0, 0, 0, 0, 0])"
            ]
          },
          "metadata": {
            "tags": []
          },
          "execution_count": 7
        }
      ]
    },
    {
      "cell_type": "code",
      "metadata": {
        "id": "AuY0khhSdWIk"
      },
      "source": [
        ""
      ],
      "execution_count": 7,
      "outputs": []
    },
    {
      "cell_type": "code",
      "metadata": {
        "id": "z8crHfiRdWIl",
        "outputId": "8aad96f2-3c4c-4072-f295-da53a14bf56f",
        "colab": {
          "base_uri": "https://localhost:8080/"
        }
      },
      "source": [
        "print(256, binary_encode(256, NUM_DIGITS))\n",
        "print(512, binary_encode(512, NUM_DIGITS))\n",
        "print(1023, binary_encode(1023, NUM_DIGITS))"
      ],
      "execution_count": 8,
      "outputs": [
        {
          "output_type": "stream",
          "text": [
            "256 [0 0 0 0 0 0 0 0 1 0]\n",
            "512 [0 0 0 0 0 0 0 0 0 1]\n",
            "1023 [1 1 1 1 1 1 1 1 1 1]\n"
          ],
          "name": "stdout"
        }
      ]
    },
    {
      "cell_type": "code",
      "metadata": {
        "id": "fDLTURi7dWIl"
      },
      "source": [
        "encoded_training_data = [binary_encode(i, NUM_DIGITS) for i in raw_training_data]"
      ],
      "execution_count": 9,
      "outputs": []
    },
    {
      "cell_type": "code",
      "metadata": {
        "id": "4sTLEFy6dWIm",
        "outputId": "9badf9ba-5c43-4be7-aaed-b41ae4aa53fe",
        "colab": {
          "base_uri": "https://localhost:8080/"
        }
      },
      "source": [
        "x_train = np.array(encoded_training_data)\n",
        "x_train[0]"
      ],
      "execution_count": 10,
      "outputs": [
        {
          "output_type": "execute_result",
          "data": {
            "text/plain": [
              "array([1, 0, 1, 0, 0, 1, 1, 0, 0, 0])"
            ]
          },
          "metadata": {
            "tags": []
          },
          "execution_count": 10
        }
      ]
    },
    {
      "cell_type": "code",
      "metadata": {
        "id": "aDutBW4mdWIo"
      },
      "source": [
        ""
      ],
      "execution_count": 10,
      "outputs": []
    },
    {
      "cell_type": "code",
      "metadata": {
        "id": "XfZ1QYisdWIp"
      },
      "source": [
        "# List out the state space. What are the different states that the data could be in:\n",
        "# there's only 4 options/states in the FizzBuzz setup\n",
        "# A number is a multiple of 3 and 5, only 3, only 5, or it ain't\n",
        "# Now we'll need to one hot encode the training data for y\n",
        "def fizz_buzz_encode(i):\n",
        "    if i % 15 == 0:\n",
        "        return np.array([0, 0, 0, 1]) # encoding for \"fizzbuzz\"\n",
        "    elif i % 5 == 0: \n",
        "        return np.array([0, 0, 1, 0]) # encoding for \"buzz\"\n",
        "    elif i % 3  == 0: \n",
        "        return np.array([0, 1, 0, 0]) # encoding for \"fizz\"\n",
        "    else:\n",
        "        return np.array([1, 0, 0, 0]) # encoding for the number output"
      ],
      "execution_count": 11,
      "outputs": []
    },
    {
      "cell_type": "code",
      "metadata": {
        "id": "GW2TS2BedWIq",
        "outputId": "94f18c12-a6d1-4bba-bf95-d98f742d9635",
        "colab": {
          "base_uri": "https://localhost:8080/"
        }
      },
      "source": [
        "print(\"Return only the number\", fizz_buzz_encode(1))\n",
        "print(\"Multiple of 3\", fizz_buzz_encode(3))\n",
        "print(\"Multiple of 5\", fizz_buzz_encode(5))\n",
        "print(\"Return only the number\", fizz_buzz_encode(7))\n",
        "print(\"Multiple of both 3 and 5\", fizz_buzz_encode(15))"
      ],
      "execution_count": 12,
      "outputs": [
        {
          "output_type": "stream",
          "text": [
            "Return only the number [1 0 0 0]\n",
            "Multiple of 3 [0 1 0 0]\n",
            "Multiple of 5 [0 0 1 0]\n",
            "Return only the number [1 0 0 0]\n",
            "Multiple of both 3 and 5 [0 0 0 1]\n"
          ],
          "name": "stdout"
        }
      ]
    },
    {
      "cell_type": "code",
      "metadata": {
        "scrolled": true,
        "id": "zmIx-MwydWIr",
        "outputId": "55785d0f-92ef-4d37-c15a-3ea7faf59114",
        "colab": {
          "base_uri": "https://localhost:8080/"
        }
      },
      "source": [
        "# y_train is the encoded output. \n",
        "# This is our \"labeled data\" for supervised learning\n",
        "y_train = np.array([fizz_buzz_encode(i) for i in range(101, 2 ** NUM_DIGITS)])\n",
        "y_train"
      ],
      "execution_count": 13,
      "outputs": [
        {
          "output_type": "execute_result",
          "data": {
            "text/plain": [
              "array([[1, 0, 0, 0],\n",
              "       [0, 1, 0, 0],\n",
              "       [1, 0, 0, 0],\n",
              "       ...,\n",
              "       [1, 0, 0, 0],\n",
              "       [1, 0, 0, 0],\n",
              "       [0, 1, 0, 0]])"
            ]
          },
          "metadata": {
            "tags": []
          },
          "execution_count": 13
        }
      ]
    },
    {
      "cell_type": "code",
      "metadata": {
        "id": "LxcdDRUXdWIt"
      },
      "source": [
        "# Now let's build our model, add layers, compile, and fit it!\n",
        "model = Sequential()"
      ],
      "execution_count": 14,
      "outputs": []
    },
    {
      "cell_type": "code",
      "metadata": {
        "id": "UykWq6l4dWIu"
      },
      "source": [
        "## Add the model's layers. \n",
        "model.add(Dense(1000, input_dim=NUM_DIGITS, activation=\"relu\"))\n",
        "model.add(Dense(1000, activation=\"relu\"))\n",
        "model.add(Dense(4, activation=\"softmax\"))"
      ],
      "execution_count": 15,
      "outputs": []
    },
    {
      "cell_type": "code",
      "metadata": {
        "id": "-yG5avHZdWIw"
      },
      "source": [
        "# categorical cross entropy is the recommended loss function for \n",
        "# metrics is a good\n",
        "model.compile(loss='categorical_crossentropy', optimizer='adagrad', metrics=[\"accuracy\"])\n",
        "#model.compile(loss='binary_crossentropy', optimizer='adam', metrics=[\"accuracy\"])"
      ],
      "execution_count": 16,
      "outputs": []
    },
    {
      "cell_type": "code",
      "metadata": {
        "id": "x5HOlRhRdWIx",
        "outputId": "0acac258-a213-45df-cd53-00476cdefd60",
        "colab": {
          "base_uri": "https://localhost:8080/"
        }
      },
      "source": [
        "model.fit(x_train, y_train, epochs=10, batch_size=128)"
      ],
      "execution_count": 17,
      "outputs": [
        {
          "output_type": "stream",
          "text": [
            "Epoch 1/10\n",
            "8/8 [==============================] - 1s 25ms/step - loss: 1.4236 - accuracy: 0.0668\n",
            "Epoch 2/10\n",
            "8/8 [==============================] - 0s 26ms/step - loss: 1.4027 - accuracy: 0.0918\n",
            "Epoch 3/10\n",
            "8/8 [==============================] - 0s 25ms/step - loss: 1.3808 - accuracy: 0.2841\n",
            "Epoch 4/10\n",
            "8/8 [==============================] - 0s 24ms/step - loss: 1.3633 - accuracy: 0.4957\n",
            "Epoch 5/10\n",
            "8/8 [==============================] - 0s 27ms/step - loss: 1.3471 - accuracy: 0.5380\n",
            "Epoch 6/10\n",
            "8/8 [==============================] - 0s 26ms/step - loss: 1.3295 - accuracy: 0.5427\n",
            "Epoch 7/10\n",
            "8/8 [==============================] - 0s 27ms/step - loss: 1.3207 - accuracy: 0.5258\n",
            "Epoch 8/10\n",
            "8/8 [==============================] - 0s 26ms/step - loss: 1.3032 - accuracy: 0.5361\n",
            "Epoch 9/10\n",
            "8/8 [==============================] - 0s 29ms/step - loss: 1.2921 - accuracy: 0.5335\n",
            "Epoch 10/10\n",
            "8/8 [==============================] - 0s 22ms/step - loss: 1.2793 - accuracy: 0.5473\n"
          ],
          "name": "stdout"
        },
        {
          "output_type": "execute_result",
          "data": {
            "text/plain": [
              "<tensorflow.python.keras.callbacks.History at 0x7f9fbad4cd10>"
            ]
          },
          "metadata": {
            "tags": []
          },
          "execution_count": 17
        }
      ]
    },
    {
      "cell_type": "markdown",
      "metadata": {
        "id": "O_cp0-IWdWIy"
      },
      "source": [
        ""
      ]
    },
    {
      "cell_type": "code",
      "metadata": {
        "id": "C1_ouyCJdWIy"
      },
      "source": [
        "# convert fizzbuzz to binary\n",
        "def fizz_buzz(i, prediction):\n",
        "    return [str(i), \"fizz\", \"buzz\", \"fizzbuzz\"][prediction]\n"
      ],
      "execution_count": 18,
      "outputs": []
    },
    {
      "cell_type": "code",
      "metadata": {
        "id": "anNNk6ehdWIz"
      },
      "source": [
        "# Setup x_test  fizzbuzz for prime numbers from 1 to 100\n",
        "numbers = np.arange(1, 101)\n",
        "x_test = np.transpose(binary_encode(numbers, NUM_DIGITS))\n",
        "y_test = model.predict_classes(x_test)"
      ],
      "execution_count": 19,
      "outputs": []
    },
    {
      "cell_type": "code",
      "metadata": {
        "id": "Pvz4Iii6dWI0",
        "outputId": "f4488fb2-fbd7-46d2-8110-996a7cc212a8",
        "colab": {
          "base_uri": "https://localhost:8080/"
        }
      },
      "source": [
        "# Setup predicted output\n",
        "predictions = np.vectorize(fizz_buzz)(numbers, y_test)\n",
        "print (predictions)"
      ],
      "execution_count": 20,
      "outputs": [
        {
          "output_type": "stream",
          "text": [
            "['1' '2' '3' '4' '5' '6' '7' '8' '9' '10' '11' '12' '13' '14' '15' '16'\n",
            " '17' '18' '19' '20' '21' '22' '23' '24' '25' '26' '27' '28' '29' '30'\n",
            " '31' '32' '33' '34' '35' '36' '37' '38' '39' '40' '41' '42' '43' '44'\n",
            " '45' '46' '47' '48' '49' '50' '51' '52' '53' '54' '55' '56' '57' '58'\n",
            " '59' '60' '61' '62' '63' '64' '65' '66' '67' '68' '69' '70' '71' '72'\n",
            " '73' '74' '75' '76' '77' '78' '79' '80' '81' '82' '83' '84' '85' '86'\n",
            " '87' '88' '89' '90' '91' '92' '93' '94' '95' '96' '97' '98' '99' '100']\n"
          ],
          "name": "stdout"
        }
      ]
    },
    {
      "cell_type": "code",
      "metadata": {
        "id": "OR0Bp_wQdWI0",
        "outputId": "620a0804-e808-4bbe-e8e6-92626e40ee10",
        "colab": {
          "base_uri": "https://localhost:8080/"
        }
      },
      "source": [
        "# correct answers for fizzbuzz on 1-100, these are our actual values\n",
        "answer = np.array([])\n",
        "for i in numbers:\n",
        "    if i % 15 == 0: \n",
        "        answer = np.append(answer, \"fizzbuzz\")\n",
        "    elif i % 5 == 0: \n",
        "        answer = np.append(answer, \"buzz\")\n",
        "    elif i % 3 == 0: \n",
        "        answer = np.append(answer, \"fizz\")\n",
        "    else: answer = np.append(answer, str(i))\n",
        "print (answer)"
      ],
      "execution_count": 21,
      "outputs": [
        {
          "output_type": "stream",
          "text": [
            "['1' '2' 'fizz' '4' 'buzz' 'fizz' '7' '8' 'fizz' 'buzz' '11' 'fizz' '13'\n",
            " '14' 'fizzbuzz' '16' '17' 'fizz' '19' 'buzz' 'fizz' '22' '23' 'fizz'\n",
            " 'buzz' '26' 'fizz' '28' '29' 'fizzbuzz' '31' '32' 'fizz' '34' 'buzz'\n",
            " 'fizz' '37' '38' 'fizz' 'buzz' '41' 'fizz' '43' '44' 'fizzbuzz' '46' '47'\n",
            " 'fizz' '49' 'buzz' 'fizz' '52' '53' 'fizz' 'buzz' '56' 'fizz' '58' '59'\n",
            " 'fizzbuzz' '61' '62' 'fizz' '64' 'buzz' 'fizz' '67' '68' 'fizz' 'buzz'\n",
            " '71' 'fizz' '73' '74' 'fizzbuzz' '76' '77' 'fizz' '79' 'buzz' 'fizz' '82'\n",
            " '83' 'fizz' 'buzz' '86' 'fizz' '88' '89' 'fizzbuzz' '91' '92' 'fizz' '94'\n",
            " 'buzz' 'fizz' '97' '98' 'fizz' 'buzz']\n"
          ],
          "name": "stdout"
        }
      ]
    },
    {
      "cell_type": "code",
      "metadata": {
        "id": "vJI0UlQ_dWI1",
        "outputId": "23931038-c47e-479c-e139-f714d96413ea",
        "colab": {
          "base_uri": "https://localhost:8080/"
        }
      },
      "source": [
        "# Let's evaluate the model's predictions\n",
        "evaluate = np.array(answer == predictions)\n",
        "print (np.count_nonzero(evaluate == True) / 100)"
      ],
      "execution_count": 22,
      "outputs": [
        {
          "output_type": "stream",
          "text": [
            "0.53\n"
          ],
          "name": "stdout"
        }
      ]
    },
    {
      "cell_type": "code",
      "metadata": {
        "id": "VqLFqNztdWI2",
        "outputId": "32a90032-0148-4bdc-89d6-09a696b52418",
        "colab": {
          "base_uri": "https://localhost:8080/"
        }
      },
      "source": [
        "answer == predictions"
      ],
      "execution_count": 23,
      "outputs": [
        {
          "output_type": "execute_result",
          "data": {
            "text/plain": [
              "array([ True,  True, False,  True, False, False,  True,  True, False,\n",
              "       False,  True, False,  True,  True, False,  True,  True, False,\n",
              "        True, False, False,  True,  True, False, False,  True, False,\n",
              "        True,  True, False,  True,  True, False,  True, False, False,\n",
              "        True,  True, False, False,  True, False,  True,  True, False,\n",
              "        True,  True, False,  True, False, False,  True,  True, False,\n",
              "       False,  True, False,  True,  True, False,  True,  True, False,\n",
              "        True, False, False,  True,  True, False, False,  True, False,\n",
              "        True,  True, False,  True,  True, False,  True, False, False,\n",
              "        True,  True, False, False,  True, False,  True,  True, False,\n",
              "        True,  True, False,  True, False, False,  True,  True, False,\n",
              "       False])"
            ]
          },
          "metadata": {
            "tags": []
          },
          "execution_count": 23
        }
      ]
    },
    {
      "cell_type": "markdown",
      "metadata": {
        "id": "2BTKO8EWdWI3"
      },
      "source": [
        "# Exercise\n",
        "1. Reassign the NUM_DIGITS to be 5 and re-run the notebook. What do you notice? Take note of the accuracy number.\n",
        "2. Reassign the NUM_DIGITS to be 11 and re-run the notebook. What do you notice? Take note of the accuracy number. \n",
        "3. In the `model.fit` code, change the nb_epoch to be a lower number and then completely rerun the notebook?\n",
        "4. In the `model.fit` code, change the nb_epoch to be a higher number and then completely rerun the notebook?\n",
        "5. Experiment with adding extra layers to the model\n",
        "6. Experiment with changing the first number of layers argument going into `model.add(Dense(1000, activation=\"relu\"))`\n",
        "7. Experiment with different activation functions (look to the Keras documentation)\n",
        "8. How good can your model get in classifying out-of-sample numbers for FizzBuzz?"
      ]
    },
    {
      "cell_type": "code",
      "metadata": {
        "id": "KOo67YrSdWI3"
      },
      "source": [
        ""
      ],
      "execution_count": 23,
      "outputs": []
    }
  ]
}